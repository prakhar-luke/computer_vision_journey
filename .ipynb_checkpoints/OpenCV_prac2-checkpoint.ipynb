{
 "cells": [
  {
   "cell_type": "code",
   "execution_count": 1,
   "id": "d68feae2-49ae-4fb9-875c-b67beeb66419",
   "metadata": {},
   "outputs": [],
   "source": [
    "import os\n",
    "import cv2\n",
    "import numpy as np"
   ]
  },
  {
   "cell_type": "markdown",
   "id": "a6be210c-3d7e-4d35-9b75-e1b9ee36a143",
   "metadata": {
    "jp-MarkdownHeadingCollapsed": true
   },
   "source": [
    "# 1. I/O"
   ]
  },
  {
   "cell_type": "markdown",
   "id": "7b1e103a-ca3d-4889-b1f7-a399be7b5177",
   "metadata": {
    "jp-MarkdownHeadingCollapsed": true
   },
   "source": [
    "## 1. Images"
   ]
  },
  {
   "cell_type": "markdown",
   "id": "56cf5e2d-2bbc-4b37-850d-87b3d0e88137",
   "metadata": {},
   "source": [
    "### i. Read"
   ]
  },
  {
   "cell_type": "code",
   "execution_count": 3,
   "id": "5a847b4a-b61a-4273-b060-9485df737e93",
   "metadata": {},
   "outputs": [],
   "source": [
    "img = cv2.imread(os.path.join('.','data','gohan.jpg'))"
   ]
  },
  {
   "cell_type": "markdown",
   "id": "70d9bfca-fec8-49e5-8195-b4125306eb62",
   "metadata": {},
   "source": [
    "### ii. Write"
   ]
  },
  {
   "cell_type": "code",
   "execution_count": 6,
   "id": "c8c544a3-1229-4909-80ad-444493563cbe",
   "metadata": {},
   "outputs": [],
   "source": [
    "img_out = cv2.imwrite(os.path.join('.','output','gohan_out.jpg'), img)"
   ]
  },
  {
   "cell_type": "markdown",
   "id": "7178605d-d21b-46af-85b4-275143c79196",
   "metadata": {},
   "source": [
    "### iii. Visualise"
   ]
  },
  {
   "cell_type": "code",
   "execution_count": 4,
   "id": "d7835495-5160-43c8-9e6d-43cb8465042f",
   "metadata": {},
   "outputs": [],
   "source": [
    "cv2.imshow('Gohan', img)\n",
    "if cv2.waitKey(0) & 0xFF==ord('q'):\n",
    "    cv2.destroyAllWindows()"
   ]
  },
  {
   "cell_type": "markdown",
   "id": "f7e78428-aff0-4f7a-917c-5b156c5de38d",
   "metadata": {
    "jp-MarkdownHeadingCollapsed": true
   },
   "source": [
    "## 2. Video"
   ]
  },
  {
   "cell_type": "markdown",
   "id": "52f98167-759c-40bc-83dd-c6b6b64b5e5c",
   "metadata": {},
   "source": [
    "### i. Read"
   ]
  },
  {
   "cell_type": "code",
   "execution_count": 9,
   "id": "7205dc85-88c5-4a6c-8423-c79088146726",
   "metadata": {},
   "outputs": [],
   "source": [
    "vid = cv2.VideoCapture(os.path.join('.','data','Son_Goku.mp4'))"
   ]
  },
  {
   "cell_type": "markdown",
   "id": "46f49b2e-5bba-400d-a5fa-b42c22f37ad7",
   "metadata": {},
   "source": [
    "### iii. Visualise"
   ]
  },
  {
   "cell_type": "code",
   "execution_count": 4,
   "id": "32bf1e3b-9f78-4e85-84b2-54b1979a4795",
   "metadata": {},
   "outputs": [
    {
     "data": {
      "text/plain": [
       "0.2"
      ]
     },
     "execution_count": 4,
     "metadata": {},
     "output_type": "execute_result"
    }
   ],
   "source": [
    "1/cv2.CAP_PROP_FPS"
   ]
  },
  {
   "cell_type": "code",
   "execution_count": 11,
   "id": "621d4f61-9031-41b2-a0b5-5c4756fbe109",
   "metadata": {},
   "outputs": [],
   "source": [
    "ret = True\n",
    "while ret:\n",
    "    ret, frame = vid.read()\n",
    "    if ret:\n",
    "        cv2.imshow('goku', frame)\n",
    "        if cv2.waitKey(20) & 0xFF==ord('q'):\n",
    "            cv2.destroyAllWindows()\n",
    "vid.release()\n",
    "cv2.destroyAllWindows()"
   ]
  },
  {
   "cell_type": "markdown",
   "id": "fc7922da-e770-43d3-a362-77f4583cb694",
   "metadata": {
    "jp-MarkdownHeadingCollapsed": true
   },
   "source": [
    "## 3. WebCam"
   ]
  },
  {
   "cell_type": "markdown",
   "id": "8c9d4716-b438-41e6-8558-8a067776276f",
   "metadata": {},
   "source": [
    "### i. Read"
   ]
  },
  {
   "cell_type": "code",
   "execution_count": 12,
   "id": "21f51f53-9c48-4d20-85ef-4c4d148ba35c",
   "metadata": {},
   "outputs": [],
   "source": [
    "cap = cv2.VideoCapture(0)"
   ]
  },
  {
   "cell_type": "markdown",
   "id": "73434026-db8a-4df9-af04-bb746c47e0d0",
   "metadata": {},
   "source": [
    "### ii. Visualize"
   ]
  },
  {
   "cell_type": "code",
   "execution_count": 13,
   "id": "6d2372b2-5f4d-43fd-8244-758f9cc565b8",
   "metadata": {},
   "outputs": [],
   "source": [
    "while True:\n",
    "    ret, frame = cap.read()\n",
    "    cv2.imshow('frame',frame)\n",
    "    if cv2.waitKey(30) & 0xFF == ord('q'):\n",
    "        break\n",
    "cap.release()\n",
    "cv2.destroyAllWindows()"
   ]
  },
  {
   "cell_type": "markdown",
   "id": "92b13e8d-d6c0-48a2-8c8f-10d71a5980a4",
   "metadata": {
    "jp-MarkdownHeadingCollapsed": true
   },
   "source": [
    "# 2. Basic Operation"
   ]
  },
  {
   "cell_type": "code",
   "execution_count": 2,
   "id": "a895ae84-38d6-475f-a650-491d471b33b9",
   "metadata": {},
   "outputs": [],
   "source": [
    "img = cv2.imread(os.path.join('.','data','gohan.jpg'))"
   ]
  },
  {
   "cell_type": "markdown",
   "id": "3db4490f-432e-4e25-8a94-d1650ea18e54",
   "metadata": {
    "jp-MarkdownHeadingCollapsed": true
   },
   "source": [
    "## i. Resize"
   ]
  },
  {
   "cell_type": "code",
   "execution_count": 3,
   "id": "c2c06ee1-00d4-4619-9bbb-430d7d28da5c",
   "metadata": {},
   "outputs": [],
   "source": [
    "resize_img = cv2.resize(img, (img.shape[1]//2, img.shape[0]//2))"
   ]
  },
  {
   "cell_type": "code",
   "execution_count": 4,
   "id": "63ed1ca2-1d6b-4d0b-b05d-caf9db9238b3",
   "metadata": {},
   "outputs": [],
   "source": [
    "cv2.imshow('img',img)\n",
    "cv2.imshow('resize', resize_img)\n",
    "if cv2.waitKey(0) & 0xFF == ord('q'):\n",
    "    cv2.destroyAllWindows()"
   ]
  },
  {
   "cell_type": "markdown",
   "id": "32123b61-520b-4bd5-bfd5-eeca660b3eee",
   "metadata": {
    "jp-MarkdownHeadingCollapsed": true
   },
   "source": [
    "## ii. Crop"
   ]
  },
  {
   "cell_type": "code",
   "execution_count": 4,
   "id": "af7bfea6-5dad-419b-ada8-692e00977137",
   "metadata": {},
   "outputs": [
    {
     "data": {
      "text/plain": [
       "(511, 512, 3)"
      ]
     },
     "execution_count": 4,
     "metadata": {},
     "output_type": "execute_result"
    }
   ],
   "source": [
    "img.shape"
   ]
  },
  {
   "cell_type": "code",
   "execution_count": 9,
   "id": "8e3660e0-bf4f-4ddf-a307-d958f94b321b",
   "metadata": {},
   "outputs": [],
   "source": [
    "crop_img = img[50:400,50:400]"
   ]
  },
  {
   "cell_type": "code",
   "execution_count": 10,
   "id": "9b9c50d7-b1ff-4e5b-931c-796d01da38a2",
   "metadata": {},
   "outputs": [],
   "source": [
    "cv2.imshow('img',img)\n",
    "cv2.imshow('crop',crop_img)\n",
    "if cv2.waitKey(0) & 0xFF==ord('q'):\n",
    "    cv2.destroyAllWindows()"
   ]
  },
  {
   "cell_type": "markdown",
   "id": "30553587-ab50-43b0-8ff1-052d5fcdd07b",
   "metadata": {
    "jp-MarkdownHeadingCollapsed": true
   },
   "source": [
    "# 3. Colorspaces"
   ]
  },
  {
   "cell_type": "code",
   "execution_count": 2,
   "id": "ea752ab8-c4de-42f6-ab87-da6fd9812ed9",
   "metadata": {},
   "outputs": [],
   "source": [
    "img = cv2.imread(os.path.join('.','data','gohan_beast.jpg'))"
   ]
  },
  {
   "cell_type": "code",
   "execution_count": 18,
   "id": "d9c831fe-4242-49a1-84e8-de74e032a8ac",
   "metadata": {},
   "outputs": [],
   "source": [
    "img_hsv = cv2.cvtColor(img, cv2.COLOR_RGB2HSV)"
   ]
  },
  {
   "cell_type": "code",
   "execution_count": 17,
   "id": "c65e9a58-1c4e-4cae-9ed1-04fe5b7dd201",
   "metadata": {},
   "outputs": [],
   "source": [
    "cv2.imshow('img',img)\n",
    "cv2.imshow('rgb',img_rgb)\n",
    "if cv2.waitKey(0) & 0xFF==ord('q'):\n",
    "    cv2.destroyAllWindows()"
   ]
  },
  {
   "cell_type": "markdown",
   "id": "3ca038da-ba3e-4e65-b575-7abfe3671899",
   "metadata": {
    "jp-MarkdownHeadingCollapsed": true
   },
   "source": [
    "# 4. Blurring"
   ]
  },
  {
   "cell_type": "code",
   "execution_count": 2,
   "id": "f3cede5f-407f-47eb-815c-843e5ee17bd0",
   "metadata": {},
   "outputs": [],
   "source": [
    "img = cv2.imread(os.path.join('.','data','Bardock.jpg'))"
   ]
  },
  {
   "cell_type": "markdown",
   "id": "a2438364-72be-4982-98e5-5caa14bf3a08",
   "metadata": {},
   "source": [
    "## i. blur()"
   ]
  },
  {
   "cell_type": "code",
   "execution_count": 3,
   "id": "d9d49add-3269-4eac-b41a-5a015b1c6c81",
   "metadata": {},
   "outputs": [],
   "source": [
    "k_size = 30\n",
    "b_img = cv2.blur(img, (k_size, k_size))\n",
    "cv2.imshow('img',img)\n",
    "cv2.imshow('blur img',b_img)\n",
    "if cv2.waitKey(0) & 0xFF==ord('q'):\n",
    "    cv2.destroyAllWindows()"
   ]
  },
  {
   "cell_type": "markdown",
   "id": "0442389f-1449-400c-8b02-4897bc97ccb1",
   "metadata": {},
   "source": [
    "## ii. GaussianBlur()"
   ]
  },
  {
   "cell_type": "code",
   "execution_count": 3,
   "id": "e43ccb99-9543-4870-91ff-167c26e01473",
   "metadata": {},
   "outputs": [],
   "source": [
    "k_size = 7\n",
    "Gb_img = cv2.GaussianBlur(img, (k_size, k_size),3)\n",
    "cv2.imshow('img',img)\n",
    "cv2.imshow('Gblur img',Gb_img)\n",
    "if cv2.waitKey(0) & 0xFF==ord('q'):\n",
    "    cv2.destroyAllWindows()"
   ]
  },
  {
   "cell_type": "markdown",
   "id": "48d0b1a4-7f0f-409d-a626-8f586620fe6e",
   "metadata": {},
   "source": [
    "## iii. medianBlur()"
   ]
  },
  {
   "cell_type": "code",
   "execution_count": 4,
   "id": "30a09740-c0c0-47b3-b6c9-6e6bf66dc021",
   "metadata": {},
   "outputs": [],
   "source": [
    "k_size = 13\n",
    "Mb_img = cv2.medianBlur(img, k_size)\n",
    "cv2.imshow('img',img)\n",
    "cv2.imshow('mblur img',Mb_img)\n",
    "if cv2.waitKey(0) & 0xFF==ord('q'):\n",
    "    cv2.destroyAllWindows()"
   ]
  },
  {
   "cell_type": "markdown",
   "id": "a42f0ca6-44df-48e1-83d8-6b9711fce3ef",
   "metadata": {
    "jp-MarkdownHeadingCollapsed": true
   },
   "source": [
    "# 5. Threshold"
   ]
  },
  {
   "cell_type": "code",
   "execution_count": 2,
   "id": "e8f4569e-3e39-449b-a5f1-d0ab679d48ec",
   "metadata": {},
   "outputs": [],
   "source": [
    "img = cv2.imread(os.path.join('.','data','Bardock.jpg'))"
   ]
  },
  {
   "cell_type": "code",
   "execution_count": 3,
   "id": "e0e28029-278f-4cea-b978-093178ebe4fe",
   "metadata": {},
   "outputs": [],
   "source": [
    "gray_img = cv2.cvtColor(img, cv2.COLOR_BGR2GRAY)"
   ]
  },
  {
   "cell_type": "code",
   "execution_count": 4,
   "id": "df17fa66-c33e-45bb-894a-3dda4c549c02",
   "metadata": {},
   "outputs": [],
   "source": [
    "ret, thresh = cv2.threshold(gray_img, 80, 255, cv2.THRESH_BINARY)"
   ]
  },
  {
   "cell_type": "code",
   "execution_count": 5,
   "id": "58bd118c-15cb-475c-875d-a31309d6c52b",
   "metadata": {},
   "outputs": [],
   "source": [
    "cv2.imshow('img',img)\n",
    "cv2.imshow('thresh_img',thresh)\n",
    "if cv2.waitKey(0) & 0xFF==ord('q'):\n",
    "    cv2.destroyAllWindows()"
   ]
  },
  {
   "cell_type": "code",
   "execution_count": 6,
   "id": "5aa3474c-0046-4f2f-82ac-c32c5df476c4",
   "metadata": {},
   "outputs": [],
   "source": [
    "Athresh = cv2.adaptiveThreshold(gray_img, 255, cv2.ADAPTIVE_THRESH_GAUSSIAN_C, cv2.THRESH_BINARY, 21, 12)"
   ]
  },
  {
   "cell_type": "code",
   "execution_count": 10,
   "id": "9425d6b1-39fa-41af-8894-d5e089a81e76",
   "metadata": {},
   "outputs": [],
   "source": [
    "cv2.imshow('og_img',img)\n",
    "cv2.imshow('thresh_img',thresh)\n",
    "cv2.imshow('apapt_thresh_img',Athresh)\n",
    "if cv2.waitKey(0) & 0xFF==ord('q'):\n",
    "    cv2.destroyAllWindows()"
   ]
  },
  {
   "cell_type": "markdown",
   "id": "e2fc8356-bc09-4386-9b29-79ad09659bfc",
   "metadata": {
    "jp-MarkdownHeadingCollapsed": true
   },
   "source": [
    "# 6. Edge Detection"
   ]
  },
  {
   "cell_type": "code",
   "execution_count": 19,
   "id": "85d0cb0a-ea96-4b8e-aabb-6a956e3db95c",
   "metadata": {},
   "outputs": [],
   "source": [
    "img = cv2.imread(os.path.join('.','data','Bardock.jpg'))"
   ]
  },
  {
   "cell_type": "code",
   "execution_count": 20,
   "id": "b0e01f50-2518-41d6-8bb5-95f71212b5d9",
   "metadata": {},
   "outputs": [],
   "source": [
    "img_edge = cv2.Canny(img, 100 ,200)"
   ]
  },
  {
   "cell_type": "code",
   "execution_count": 16,
   "id": "13dfc28f-e995-4e48-942e-cc1aaaab53cd",
   "metadata": {},
   "outputs": [],
   "source": [
    "cv2.imshow('img',img)\n",
    "cv2.imshow('img_edge',img_edge)\n",
    "if cv2.waitKey(0) & 0xFF==ord('q'):\n",
    "    cv2.destroyAllWindows()"
   ]
  },
  {
   "cell_type": "markdown",
   "id": "7b253ee1-b07f-42ce-baeb-ba0c8f0902c4",
   "metadata": {},
   "source": [
    "## i. dilate"
   ]
  },
  {
   "cell_type": "code",
   "execution_count": 29,
   "id": "2349f2fe-d1f3-40b0-844b-d013cd02e9d9",
   "metadata": {},
   "outputs": [],
   "source": [
    "img_edg_d = cv2.dilate(img_edge, np.ones((5,5), dtype=np.int8))"
   ]
  },
  {
   "cell_type": "code",
   "execution_count": 30,
   "id": "cfc22d97-c5ea-4433-9272-04ffac50fbb3",
   "metadata": {},
   "outputs": [],
   "source": [
    "cv2.imshow('img',img)\n",
    "cv2.imshow('img_edge',img_edge)\n",
    "cv2.imshow('img_edg_d',img_edg_d)\n",
    "if cv2.waitKey(0) & 0xFF==ord('q'):\n",
    "    cv2.destroyAllWindows()"
   ]
  },
  {
   "cell_type": "markdown",
   "id": "ee551683-a3d1-4db9-8334-0fc1fca450a1",
   "metadata": {},
   "source": [
    "## ii. erode()"
   ]
  },
  {
   "cell_type": "code",
   "execution_count": 33,
   "id": "49792427-cdf1-482c-ab8d-976790f9accc",
   "metadata": {},
   "outputs": [],
   "source": [
    "img_edg_e = cv2.erode(img_edg_d, np.ones((5,5), dtype=np.int8))"
   ]
  },
  {
   "cell_type": "code",
   "execution_count": 34,
   "id": "73651845-9d7b-47f9-af36-cb169650fc9d",
   "metadata": {},
   "outputs": [],
   "source": [
    "cv2.imshow('img',img)\n",
    "cv2.imshow('img_edge',img_edge)\n",
    "cv2.imshow('img_edg_e',img_edg_e)\n",
    "if cv2.waitKey(0) & 0xFF==ord('q'):\n",
    "    cv2.destroyAllWindows()"
   ]
  },
  {
   "cell_type": "markdown",
   "id": "69a9b411-9d9b-455c-a520-bd8848232c4b",
   "metadata": {
    "jp-MarkdownHeadingCollapsed": true
   },
   "source": [
    "# 7. Drawing"
   ]
  },
  {
   "cell_type": "code",
   "execution_count": 2,
   "id": "7d1f76e5-d237-4273-8c5b-f1c6c203a41c",
   "metadata": {},
   "outputs": [],
   "source": [
    "img = cv2.imread(os.path.join('.','data','white_img.png'))"
   ]
  },
  {
   "cell_type": "code",
   "execution_count": 3,
   "id": "775ad7de-1f51-4487-a68a-b4038667e9cb",
   "metadata": {},
   "outputs": [],
   "source": [
    "def img_show():\n",
    "    cv2.imshow('img',img)\n",
    "    if cv2.waitKey(0) & 0xFF == ord('q'):\n",
    "        cv2.destroyAllWindows()"
   ]
  },
  {
   "cell_type": "code",
   "execution_count": 4,
   "id": "aa11ea8d-1383-48d9-bbac-25fff82bd3ae",
   "metadata": {},
   "outputs": [
    {
     "data": {
      "text/plain": [
       "(500, 500, 3)"
      ]
     },
     "execution_count": 4,
     "metadata": {},
     "output_type": "execute_result"
    }
   ],
   "source": [
    "img.shape"
   ]
  },
  {
   "cell_type": "markdown",
   "id": "4a013e3f-605d-4e7a-a24b-e4d79171aac2",
   "metadata": {
    "jp-MarkdownHeadingCollapsed": true
   },
   "source": [
    "## i. Line"
   ]
  },
  {
   "cell_type": "code",
   "execution_count": 27,
   "id": "c10e1112-e3ba-4081-a7ec-0c7e7018b838",
   "metadata": {
    "scrolled": true
   },
   "outputs": [],
   "source": [
    "cv2.line(img, (100,150), (200, 350), (255,255,0), 1)\n",
    "img_show()"
   ]
  },
  {
   "cell_type": "markdown",
   "id": "1d742d33-984b-45e7-85bf-1c6825f9a35e",
   "metadata": {
    "jp-MarkdownHeadingCollapsed": true
   },
   "source": [
    "## ii. Rectangel"
   ]
  },
  {
   "cell_type": "code",
   "execution_count": 26,
   "id": "52f6b831-8094-46ef-8994-422a92f21189",
   "metadata": {
    "scrolled": true
   },
   "outputs": [],
   "source": [
    "cv2.rectangle(img, (130,180),(300,400),(255,0,0), -1) \n",
    "img_show()"
   ]
  },
  {
   "cell_type": "markdown",
   "id": "c3fe0749-1636-4cbf-8ac1-e358e2b77425",
   "metadata": {
    "jp-MarkdownHeadingCollapsed": true
   },
   "source": [
    "## iii. Circle"
   ]
  },
  {
   "cell_type": "code",
   "execution_count": 29,
   "id": "619c716d-5f25-4fd5-8d0e-47c811bafb77",
   "metadata": {},
   "outputs": [],
   "source": [
    "cv2.circle(img, (350,200), 50, (255,0,255), 10)\n",
    "img_show()"
   ]
  },
  {
   "cell_type": "markdown",
   "id": "2a6f1d9c-9840-4422-81eb-7a1e0fcfc62e",
   "metadata": {
    "jp-MarkdownHeadingCollapsed": true
   },
   "source": [
    "## iv. Text"
   ]
  },
  {
   "cell_type": "code",
   "execution_count": 8,
   "id": "c8a1824f-06ec-470e-b224-a6e599c637d7",
   "metadata": {},
   "outputs": [],
   "source": [
    "cv2.putText(img, 'Hey Jude !', (100,100), cv2.FONT_HERSHEY_COMPLEX, 2, (100,100,255), 10)\n",
    "img_show()"
   ]
  },
  {
   "cell_type": "markdown",
   "id": "e5112c43-8144-4dff-b099-677a19bc90ce",
   "metadata": {},
   "source": [
    "# 8. Contours"
   ]
  },
  {
   "cell_type": "code",
   "execution_count": null,
   "id": "3d69b8cd-83c2-4a24-a615-c65a76c542bf",
   "metadata": {},
   "outputs": [],
   "source": []
  }
 ],
 "metadata": {
  "kernelspec": {
   "display_name": "cv_prac1",
   "language": "python",
   "name": "cv_prac1"
  },
  "language_info": {
   "codemirror_mode": {
    "name": "ipython",
    "version": 3
   },
   "file_extension": ".py",
   "mimetype": "text/x-python",
   "name": "python",
   "nbconvert_exporter": "python",
   "pygments_lexer": "ipython3",
   "version": "3.11.4"
  }
 },
 "nbformat": 4,
 "nbformat_minor": 5
}
